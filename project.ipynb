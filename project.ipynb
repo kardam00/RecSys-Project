{
  "nbformat": 4,
  "nbformat_minor": 0,
  "metadata": {
    "colab": {
      "provenance": []
    },
    "kernelspec": {
      "name": "python3",
      "display_name": "Python 3"
    },
    "language_info": {
      "name": "python"
    }
  },
  "cells": [
    {
      "cell_type": "markdown",
      "source": [
        "## Importing Libraries"
      ],
      "metadata": {
        "id": "-JThSCYv5LCS"
      }
    },
    {
      "cell_type": "code",
      "source": [
        "!pip install surprise\n",
        "!pip install powerlaw\n",
        "import numpy as np\n",
        "import pandas as pd\n",
        "from scipy.stats import ttest_rel\n",
        "from sklearn.model_selection import train_test_split\n",
        "import matplotlib.pyplot as plt\n",
        "import seaborn as sns\n",
        "from surprise import Dataset, Reader\n",
        "from surprise.model_selection import train_test_split as surprise_train_test_split\n",
        "from surprise import NormalPredictor, KNNBasic, KNNWithZScore, KNNWithMeans, KNNBaseline\n",
        "from surprise import SVD, NMF\n",
        "from sklearn.metrics import mean_squared_error\n",
        "from tabulate import tabulate\n",
        "from collections import defaultdict\n",
        "import powerlaw"
      ],
      "metadata": {
        "id": "2Ytv794L02d3",
        "colab": {
          "base_uri": "https://localhost:8080/"
        },
        "outputId": "a438b45f-2465-49e9-a622-bee804976ea8"
      },
      "execution_count": 1,
      "outputs": [
        {
          "output_type": "stream",
          "name": "stdout",
          "text": [
            "Requirement already satisfied: surprise in /usr/local/lib/python3.10/dist-packages (0.1)\n",
            "Requirement already satisfied: scikit-surprise in /usr/local/lib/python3.10/dist-packages (from surprise) (1.1.3)\n",
            "Requirement already satisfied: joblib>=1.0.0 in /usr/local/lib/python3.10/dist-packages (from scikit-surprise->surprise) (1.3.2)\n",
            "Requirement already satisfied: numpy>=1.17.3 in /usr/local/lib/python3.10/dist-packages (from scikit-surprise->surprise) (1.23.5)\n",
            "Requirement already satisfied: scipy>=1.3.2 in /usr/local/lib/python3.10/dist-packages (from scikit-surprise->surprise) (1.11.4)\n",
            "Requirement already satisfied: powerlaw in /usr/local/lib/python3.10/dist-packages (1.5)\n",
            "Requirement already satisfied: scipy in /usr/local/lib/python3.10/dist-packages (from powerlaw) (1.11.4)\n",
            "Requirement already satisfied: numpy in /usr/local/lib/python3.10/dist-packages (from powerlaw) (1.23.5)\n",
            "Requirement already satisfied: matplotlib in /usr/local/lib/python3.10/dist-packages (from powerlaw) (3.7.1)\n",
            "Requirement already satisfied: mpmath in /usr/local/lib/python3.10/dist-packages (from powerlaw) (1.3.0)\n",
            "Requirement already satisfied: contourpy>=1.0.1 in /usr/local/lib/python3.10/dist-packages (from matplotlib->powerlaw) (1.2.0)\n",
            "Requirement already satisfied: cycler>=0.10 in /usr/local/lib/python3.10/dist-packages (from matplotlib->powerlaw) (0.12.1)\n",
            "Requirement already satisfied: fonttools>=4.22.0 in /usr/local/lib/python3.10/dist-packages (from matplotlib->powerlaw) (4.46.0)\n",
            "Requirement already satisfied: kiwisolver>=1.0.1 in /usr/local/lib/python3.10/dist-packages (from matplotlib->powerlaw) (1.4.5)\n",
            "Requirement already satisfied: packaging>=20.0 in /usr/local/lib/python3.10/dist-packages (from matplotlib->powerlaw) (23.2)\n",
            "Requirement already satisfied: pillow>=6.2.0 in /usr/local/lib/python3.10/dist-packages (from matplotlib->powerlaw) (9.4.0)\n",
            "Requirement already satisfied: pyparsing>=2.3.1 in /usr/local/lib/python3.10/dist-packages (from matplotlib->powerlaw) (3.1.1)\n",
            "Requirement already satisfied: python-dateutil>=2.7 in /usr/local/lib/python3.10/dist-packages (from matplotlib->powerlaw) (2.8.2)\n",
            "Requirement already satisfied: six>=1.5 in /usr/local/lib/python3.10/dist-packages (from python-dateutil>=2.7->matplotlib->powerlaw) (1.16.0)\n"
          ]
        }
      ]
    },
    {
      "cell_type": "markdown",
      "source": [
        "## Loading and Preprocessing MovieLens Data"
      ],
      "metadata": {
        "id": "q2FurJt-5TOV"
      }
    },
    {
      "cell_type": "code",
      "source": [
        "def load_and_preprocess_movielens(movies_path, ratings_path, tags_path):\n",
        "    movies = pd.read_csv(movies_path)\n",
        "    ratings = pd.read_csv(ratings_path)\n",
        "    tags = pd.read_csv(tags_path)\n",
        "\n",
        "    merged_data = pd.merge(ratings, movies, on='movieId', how='left')\n",
        "    merged_data = pd.merge(merged_data, tags, on=['movieId', 'userId'], how='left')\n",
        "\n",
        "    reduced_data = merged_data.head(20000)\n",
        "\n",
        "    processed_data = reduced_data[['userId', 'movieId', 'rating', 'title', 'genres', 'tag']]\n",
        "\n",
        "    return processed_data"
      ],
      "metadata": {
        "id": "NyubWqrQ02aC"
      },
      "execution_count": 2,
      "outputs": []
    },
    {
      "cell_type": "markdown",
      "source": [
        "## Splitting Data"
      ],
      "metadata": {
        "id": "u38hBQuY5V-g"
      }
    },
    {
      "cell_type": "code",
      "source": [
        "def split_data(data):\n",
        "    train_data, test_data = train_test_split(data, test_size=0.2, random_state=42)\n",
        "    return train_data, test_data"
      ],
      "metadata": {
        "id": "D8JtJ_j-02Xs"
      },
      "execution_count": 3,
      "outputs": []
    },
    {
      "cell_type": "markdown",
      "source": [
        "## Defining Models"
      ],
      "metadata": {
        "id": "kZjl5aVM5YtC"
      }
    },
    {
      "cell_type": "code",
      "source": [
        "def define_models():\n",
        "\n",
        "    models = {\n",
        "        'Random': NormalPredictor(),\n",
        "        'KNNBasic': KNNBasic(),\n",
        "        'KNNWithZScore': KNNWithZScore(),\n",
        "        'KNNWithMeans': KNNWithMeans(),\n",
        "        'KNNBaseline': KNNBaseline(),\n",
        "        'SVD': SVD(),\n",
        "        'NMF': NMF(),\n",
        "    }\n",
        "\n",
        "    return models"
      ],
      "metadata": {
        "id": "8aiHS33qfSrr"
      },
      "execution_count": 4,
      "outputs": []
    },
    {
      "cell_type": "code",
      "source": [
        "def rmse(predictions, targets):\n",
        "    return np.sqrt(((predictions - targets) ** 2).mean())\n",
        "\n",
        "def bpr(predictions, targets):\n",
        "    return np.mean(predictions)\n",
        "\n",
        "def number_non_zeros(targets):\n",
        "    return np.count_nonzero(targets)\n"
      ],
      "metadata": {
        "id": "onRQ8XEk4bZf"
      },
      "execution_count": 5,
      "outputs": []
    },
    {
      "cell_type": "markdown",
      "source": [
        "## Defining Evaluation Metrics"
      ],
      "metadata": {
        "id": "Oc7Jo2ej5ihW"
      }
    },
    {
      "cell_type": "code",
      "source": [
        "def define_metrics():\n",
        "    metrics = {\n",
        "        'RMSE': rmse,\n",
        "        'BPR': bpr,\n",
        "        'NumberNonZeros': number_non_zeros,\n",
        "    }\n",
        "    return metrics"
      ],
      "metadata": {
        "id": "bsooUQJ64bWC"
      },
      "execution_count": 6,
      "outputs": []
    },
    {
      "cell_type": "markdown",
      "source": [
        "## Training Models"
      ],
      "metadata": {
        "id": "6CgWUmyA5k2q"
      }
    },
    {
      "cell_type": "code",
      "source": [
        "def train_model(model_name, train_data):\n",
        "    reader = Reader(rating_scale=(1, 5))\n",
        "    data = Dataset.load_from_df(train_data[['userId', 'movieId', 'rating']], reader)\n",
        "\n",
        "    if model_name in ['Random', 'KNNBasic', 'KNNWithZScore', 'KNNWithMeans', 'KNNBaseline', 'SVD', 'NMF']:\n",
        "        model = define_models()[model_name]\n",
        "    else:\n",
        "        raise ValueError(f\"Unknown model: {model_name}\")\n",
        "\n",
        "    trainset, _ = surprise_train_test_split(data, test_size=0.2, random_state=42)\n",
        "    model.fit(trainset)\n",
        "    return model"
      ],
      "metadata": {
        "id": "4uJd5uvT4bTX"
      },
      "execution_count": 7,
      "outputs": []
    },
    {
      "cell_type": "markdown",
      "source": [
        "## Evaluating Models"
      ],
      "metadata": {
        "id": "_Kr88yZ75naN"
      }
    },
    {
      "cell_type": "code",
      "source": [
        "def evaluate_model(model, test_data, stratum=None):\n",
        "    reader = Reader(rating_scale=(1, 5))\n",
        "    test_data = Dataset.load_from_df(test_data[['userId', 'movieId', 'rating']], reader)\n",
        "    test_data = test_data.build_full_trainset().build_testset()\n",
        "\n",
        "\n",
        "    predictions = model.test(test_data)\n",
        "\n",
        "    rmse = np.sqrt(mean_squared_error([pred.r_ui for pred in predictions], [pred.est for pred in predictions]))\n",
        "\n",
        "    num_non_zeros = len(test_data)\n",
        "\n",
        "    bpr = np.mean([pred.est for pred in predictions])\n",
        "\n",
        "    results = {'rmse': rmse, 'number_non_zeros': num_non_zeros, 'bpr': bpr, 'stratum': stratum}\n",
        "\n",
        "    return results"
      ],
      "metadata": {
        "id": "ucxajYMl4bRZ"
      },
      "execution_count": 17,
      "outputs": []
    },
    {
      "cell_type": "markdown",
      "source": [
        "Stratified Evaluation"
      ],
      "metadata": {
        "id": "d9ReBS4R4eX5"
      }
    },
    {
      "cell_type": "code",
      "source": [
        "def estimate_propensities(data):\n",
        "\n",
        "    # find the item's frequencies\n",
        "    item_freq = defaultdict(int)\n",
        "    for u, i, r in data:\n",
        "        item_freq[i] += 1\n",
        "\n",
        "    # fit the exponential param\n",
        "    data = np.array([e for e in item_freq.values()], dtype=np.float)\n",
        "    results = powerlaw.Fit(data, discrete=True, fit_method='Likelihood')\n",
        "    alpha = results.power_law.alpha\n",
        "    fmin = results.power_law.xmin\n",
        "\n",
        "    # replace raw frequencies with the estimated propensities\n",
        "    for k, v in item_freq.items():\n",
        "        if v > fmin:\n",
        "            item_freq[k] = pow(v, alpha)\n",
        "\n",
        "    return item_freq  # user-independent propensity estimations\n",
        "\n",
        "def build_stratified_datasets(train_data, test_data, n_strata):\n",
        "    reader = Reader(rating_scale=(1, 5))\n",
        "    test_data = Dataset.load_from_df(test_data[['userId', 'movieId', 'rating']], reader)\n",
        "    train_data = Dataset.load_from_df(train_data[['userId', 'movieId', 'rating']], reader)\n",
        "\n",
        "    test_data = test_data.build_full_trainset().build_testset()\n",
        "\n",
        "    train_data = train_data.build_full_trainset().build_testset()\n",
        "\n",
        "    props = estimate_propensities(train_data)\n",
        "    stratified_sets = {}\n",
        "    test_props = np.array([props[i] for u, i, r in test_data], dtype=np.float64)\n",
        "    strata, bins = pd.cut(x=test_props, bins=n_strata,labels=['Q%d' % i for i in range(1, n_strata+1)],retbins=True)\n",
        "    for stratum in sorted(np.unique(strata)):\n",
        "        # sample the corresponding sub-population\n",
        "        qtest_data = []\n",
        "        for (u, i, r), q in zip(test_data, strata):\n",
        "            if q == stratum:\n",
        "                qtest_data.append((u, i, r))\n",
        "        stratified_sets[stratum] = qtest_data\n",
        "    return stratified_sets\n",
        "\n",
        "def stratified_evaluation(model, train_data, test_data, n_strata):\n",
        "  stratified_sets = build_stratified_datasets(train_data, test_data, n_strata)\n",
        "  results =[]\n",
        "  for i in range(n_strata):\n",
        "    label = 'Q%d' % (i + 1)\n",
        "    predictions = model.test(stratified_sets[label])\n",
        "\n",
        "    rmse = np.sqrt(mean_squared_error([pred.r_ui for pred in predictions], [pred.est for pred in predictions]))\n",
        "\n",
        "    num_non_zeros = len(stratified_sets[label])\n",
        "\n",
        "    bpr = np.mean([pred.est for pred in predictions])\n",
        "    result = {'rmse': rmse, 'number_non_zeros': num_non_zeros, 'bpr': bpr, 'stratum': label}\n",
        "    results.append(result)\n",
        "  return results\n"
      ],
      "metadata": {
        "id": "ZO8fSLXg4f-t"
      },
      "execution_count": 9,
      "outputs": []
    },
    {
      "cell_type": "markdown",
      "source": [
        "## Comparing Correlations"
      ],
      "metadata": {
        "id": "qNIzlxAm5pdo"
      }
    },
    {
      "cell_type": "code",
      "source": [
        "def compare_correlations(correlation1, correlation2):\n",
        "    test_statistic, p_value = ttest_rel(correlation1, correlation2)\n",
        "    return test_statistic, p_value"
      ],
      "metadata": {
        "id": "v76ecvG-4bPD"
      },
      "execution_count": 10,
      "outputs": []
    },
    {
      "cell_type": "markdown",
      "source": [
        "## Verifying Simpson's Paradox"
      ],
      "metadata": {
        "id": "h-kWD0SP5tAl"
      }
    },
    {
      "cell_type": "code",
      "source": [
        "def verify_simpsons_paradox(results):\n",
        "    overall_rmse = np.mean([result['rmse'] for result in results])\n",
        "    stratified_rmse_q1 = np.mean([result['rmse'] for result in results if result['stratum'] == 1 and not np.isnan(result['rmse'])])\n",
        "    stratified_rmse_q2 = np.mean([result['rmse'] for result in results if result['stratum'] == 2 and not np.isnan(result['rmse'])])\n",
        "\n",
        "    print(\"Overall RMSE:\", overall_rmse)\n",
        "    print(\"Stratified RMSE (Q1):\", stratified_rmse_q1)\n",
        "    print(\"Stratified RMSE (Q2):\", stratified_rmse_q2)\n",
        "\n",
        "    if stratified_rmse_q1 > overall_rmse and stratified_rmse_q2 > overall_rmse:\n",
        "        print(\"Simpson's Paradox is observed.\")\n",
        "    else:\n",
        "        print(\"Simpson's Paradox is not observed.\")\n"
      ],
      "metadata": {
        "id": "kESxKLK-4ikf"
      },
      "execution_count": 11,
      "outputs": []
    },
    {
      "cell_type": "markdown",
      "source": [
        "## Printing Metrics Table"
      ],
      "metadata": {
        "id": "3fNL7C_95vXh"
      }
    },
    {
      "cell_type": "code",
      "source": [
        "def print_metrics_table(results):\n",
        "    headers = ['Model', 'RMSE', 'BPR', 'Number of Non-Zeros','Stratum']\n",
        "\n",
        "    table_data = []\n",
        "    for result in results:\n",
        "        row = [\n",
        "            result.get('model', ''),\n",
        "            result.get('rmse', ''),\n",
        "            result.get('bpr', ''),\n",
        "            result.get('number_non_zeros', ''),\n",
        "            result.get('stratum', '')\n",
        "        ]\n",
        "        table_data.append(row)\n",
        "\n",
        "    print(tabulate(table_data, headers=headers, tablefmt=\"grid\"))\n"
      ],
      "metadata": {
        "id": "ZISGNoSu4iiN"
      },
      "execution_count": 12,
      "outputs": []
    },
    {
      "cell_type": "code",
      "source": [
        "movies_path = 'movies.csv'\n",
        "ratings_path = 'ratings.csv'\n",
        "tags_path = 'tags.csv'\n",
        "processed_data = load_and_preprocess_movielens(movies_path, ratings_path, tags_path)\n",
        "\n",
        "print(\"Dataset Info:\")\n",
        "print(processed_data.info())"
      ],
      "metadata": {
        "colab": {
          "base_uri": "https://localhost:8080/"
        },
        "id": "nu2sa1mg4if5",
        "outputId": "0b8eaf7d-cfaa-46be-b044-7b45eaf7289a"
      },
      "execution_count": 13,
      "outputs": [
        {
          "output_type": "stream",
          "name": "stdout",
          "text": [
            "Dataset Info:\n",
            "<class 'pandas.core.frame.DataFrame'>\n",
            "Int64Index: 20000 entries, 0 to 19999\n",
            "Data columns (total 6 columns):\n",
            " #   Column   Non-Null Count  Dtype  \n",
            "---  ------   --------------  -----  \n",
            " 0   userId   20000 non-null  int64  \n",
            " 1   movieId  20000 non-null  int64  \n",
            " 2   rating   20000 non-null  float64\n",
            " 3   title    20000 non-null  object \n",
            " 4   genres   20000 non-null  object \n",
            " 5   tag      612 non-null    object \n",
            "dtypes: float64(1), int64(2), object(3)\n",
            "memory usage: 1.1+ MB\n",
            "None\n"
          ]
        }
      ]
    },
    {
      "cell_type": "code",
      "source": [
        "train_data, test_data = train_test_split(processed_data, test_size=0.2, random_state=42)\n"
      ],
      "metadata": {
        "id": "2OwSlLZw42mq"
      },
      "execution_count": 14,
      "outputs": []
    },
    {
      "cell_type": "code",
      "source": [
        "models_to_evaluate = ['Random', 'KNNBasic', 'KNNWithZScore', 'KNNWithMeans', 'KNNBaseline', 'SVD', 'NMF']\n"
      ],
      "metadata": {
        "id": "IsIA_c3H42jf"
      },
      "execution_count": 15,
      "outputs": []
    },
    {
      "cell_type": "code",
      "source": [
        "results = []\n",
        "for model_name in models_to_evaluate:\n",
        "    trained_model = train_model(model_name, train_data)\n",
        "    evaluation_results = evaluate_model(trained_model, test_data)\n",
        "\n",
        "    if 'model' not in evaluation_results:\n",
        "        evaluation_results['model'] = model_name\n",
        "    stratified_evaluation_results = stratified_evaluation(trained_model, train_data, test_data, 2)\n",
        "    results.append(evaluation_results)\n",
        "    results += stratified_evaluation_results"
      ],
      "metadata": {
        "colab": {
          "base_uri": "https://localhost:8080/"
        },
        "id": "ZMS-2HKq42fw",
        "outputId": "7354e4bb-4dc8-424a-ffef-bd27999ea8c2"
      },
      "execution_count": 18,
      "outputs": [
        {
          "output_type": "stream",
          "name": "stderr",
          "text": [
            "<ipython-input-9-ee4a53dcc6bf>:9: DeprecationWarning: `np.float` is a deprecated alias for the builtin `float`. To silence this warning, use `float` by itself. Doing this will not modify any behavior and is safe. If you specifically wanted the numpy scalar type, use `np.float64` here.\n",
            "Deprecated in NumPy 1.20; for more details and guidance: https://numpy.org/devdocs/release/1.20.0-notes.html#deprecations\n",
            "  data = np.array([e for e in item_freq.values()], dtype=np.float)\n"
          ]
        },
        {
          "output_type": "stream",
          "name": "stdout",
          "text": [
            "Calculating best minimal value for power law fit\n",
            "xmin progress: 00%\rxmin progress: 02%\rxmin progress: 04%\rxmin progress: 06%\rxmin progress: 08%\rxmin progress: 10%\rxmin progress: 12%\rxmin progress: 14%\rxmin progress: 16%\rxmin progress: 18%\rxmin progress: 20%\rxmin progress: 22%\rxmin progress: 24%\rxmin progress: 26%\rxmin progress: 28%\rxmin progress: 30%\rxmin progress: 32%\rxmin progress: 34%\rxmin progress: 36%\rxmin progress: 38%\rxmin progress: 40%\rxmin progress: 42%\rxmin progress: 44%\rxmin progress: 46%\rxmin progress: 48%\rxmin progress: 50%\rxmin progress: 52%\rxmin progress: 54%\rxmin progress: 56%\rxmin progress: 57%\rxmin progress: 60%\rxmin progress: 62%\rxmin progress: 64%\rxmin progress: 66%\rxmin progress: 68%\rxmin progress: 70%\rxmin progress: 72%\rxmin progress: 74%\rxmin progress: 76%\rxmin progress: 78%\rxmin progress: 80%\rxmin progress: 82%\rxmin progress: 84%\rxmin progress: 86%\rxmin progress: 88%\rxmin progress: 90%\rxmin progress: 92%\rxmin progress: 94%\rxmin progress: 96%\rxmin progress: 98%\rComputing the msd similarity matrix...\n",
            "Done computing similarity matrix.\n"
          ]
        },
        {
          "output_type": "stream",
          "name": "stderr",
          "text": [
            "<ipython-input-9-ee4a53dcc6bf>:9: DeprecationWarning: `np.float` is a deprecated alias for the builtin `float`. To silence this warning, use `float` by itself. Doing this will not modify any behavior and is safe. If you specifically wanted the numpy scalar type, use `np.float64` here.\n",
            "Deprecated in NumPy 1.20; for more details and guidance: https://numpy.org/devdocs/release/1.20.0-notes.html#deprecations\n",
            "  data = np.array([e for e in item_freq.values()], dtype=np.float)\n"
          ]
        },
        {
          "output_type": "stream",
          "name": "stdout",
          "text": [
            "Calculating best minimal value for power law fit\n",
            "Computing the msd similarity matrix...\n",
            "Done computing similarity matrix.\n",
            "Calculating best minimal value for power law fit\n"
          ]
        },
        {
          "output_type": "stream",
          "name": "stderr",
          "text": [
            "<ipython-input-9-ee4a53dcc6bf>:9: DeprecationWarning: `np.float` is a deprecated alias for the builtin `float`. To silence this warning, use `float` by itself. Doing this will not modify any behavior and is safe. If you specifically wanted the numpy scalar type, use `np.float64` here.\n",
            "Deprecated in NumPy 1.20; for more details and guidance: https://numpy.org/devdocs/release/1.20.0-notes.html#deprecations\n",
            "  data = np.array([e for e in item_freq.values()], dtype=np.float)\n"
          ]
        },
        {
          "output_type": "stream",
          "name": "stdout",
          "text": [
            "xmin progress: 06%\rxmin progress: 08%\rxmin progress: 10%\rxmin progress: 12%\rxmin progress: 14%\rxmin progress: 16%\rxmin progress: 18%\rxmin progress: 20%\rxmin progress: 22%\rxmin progress: 24%\rxmin progress: 26%\rxmin progress: 28%\rxmin progress: 30%\rxmin progress: 32%\rxmin progress: 34%\rxmin progress: 36%\rxmin progress: 38%\rxmin progress: 40%\rxmin progress: 42%\rxmin progress: 44%\rxmin progress: 46%\rxmin progress: 48%\rxmin progress: 50%\rxmin progress: 52%\rxmin progress: 54%\rxmin progress: 56%\rxmin progress: 57%\rxmin progress: 60%\rxmin progress: 62%\rxmin progress: 64%\rxmin progress: 66%\rxmin progress: 68%\rxmin progress: 70%\rxmin progress: 72%\rxmin progress: 74%\rxmin progress: 76%\rxmin progress: 78%\rxmin progress: 80%\rxmin progress: 82%\rxmin progress: 84%\rxmin progress: 86%\rxmin progress: 88%\rxmin progress: 90%\rxmin progress: 92%\rxmin progress: 94%\rxmin progress: 96%\rxmin progress: 98%\rComputing the msd similarity matrix...\n",
            "Done computing similarity matrix.\n"
          ]
        },
        {
          "output_type": "stream",
          "name": "stderr",
          "text": [
            "<ipython-input-9-ee4a53dcc6bf>:9: DeprecationWarning: `np.float` is a deprecated alias for the builtin `float`. To silence this warning, use `float` by itself. Doing this will not modify any behavior and is safe. If you specifically wanted the numpy scalar type, use `np.float64` here.\n",
            "Deprecated in NumPy 1.20; for more details and guidance: https://numpy.org/devdocs/release/1.20.0-notes.html#deprecations\n",
            "  data = np.array([e for e in item_freq.values()], dtype=np.float)\n"
          ]
        },
        {
          "output_type": "stream",
          "name": "stdout",
          "text": [
            "Calculating best minimal value for power law fit\n",
            "xmin progress: 00%\rxmin progress: 02%\rxmin progress: 04%\rxmin progress: 06%\rxmin progress: 08%\rxmin progress: 10%\rxmin progress: 12%\rxmin progress: 14%\rxmin progress: 16%\rxmin progress: 18%\rxmin progress: 20%\rxmin progress: 22%\rxmin progress: 24%\rxmin progress: 26%\rxmin progress: 28%\rxmin progress: 30%\rxmin progress: 32%\rxmin progress: 34%\rxmin progress: 36%\rxmin progress: 38%\rxmin progress: 40%\rxmin progress: 42%\rxmin progress: 44%\rxmin progress: 46%\rxmin progress: 48%\rxmin progress: 50%\rxmin progress: 52%\rxmin progress: 54%\rxmin progress: 56%\rxmin progress: 57%\rxmin progress: 60%\rxmin progress: 62%\rxmin progress: 64%\rxmin progress: 66%\rxmin progress: 68%\rxmin progress: 70%\rxmin progress: 72%\rxmin progress: 74%\rxmin progress: 76%\rxmin progress: 78%\rxmin progress: 80%\rxmin progress: 82%\rxmin progress: 84%\rxmin progress: 86%\rxmin progress: 88%\rxmin progress: 90%\rxmin progress: 92%\rxmin progress: 94%\rxmin progress: 96%\rxmin progress: 98%\rEstimating biases using als...\n",
            "Computing the msd similarity matrix...\n",
            "Done computing similarity matrix.\n"
          ]
        },
        {
          "output_type": "stream",
          "name": "stderr",
          "text": [
            "<ipython-input-9-ee4a53dcc6bf>:9: DeprecationWarning: `np.float` is a deprecated alias for the builtin `float`. To silence this warning, use `float` by itself. Doing this will not modify any behavior and is safe. If you specifically wanted the numpy scalar type, use `np.float64` here.\n",
            "Deprecated in NumPy 1.20; for more details and guidance: https://numpy.org/devdocs/release/1.20.0-notes.html#deprecations\n",
            "  data = np.array([e for e in item_freq.values()], dtype=np.float)\n"
          ]
        },
        {
          "output_type": "stream",
          "name": "stdout",
          "text": [
            "Calculating best minimal value for power law fit\n",
            "xmin progress: 00%\rxmin progress: 02%\rxmin progress: 04%\rxmin progress: 06%\rxmin progress: 08%\rxmin progress: 10%\rxmin progress: 12%\rxmin progress: 14%\rxmin progress: 16%\rxmin progress: 18%\rxmin progress: 20%\rxmin progress: 22%\rxmin progress: 24%\rxmin progress: 26%\rxmin progress: 28%\rxmin progress: 30%\rxmin progress: 32%\rxmin progress: 34%\rxmin progress: 36%\rxmin progress: 38%\rxmin progress: 40%\rxmin progress: 42%\rxmin progress: 44%\rxmin progress: 46%\rxmin progress: 48%\rxmin progress: 50%\rxmin progress: 52%\rxmin progress: 54%\rxmin progress: 56%\rxmin progress: 57%\rxmin progress: 60%\rxmin progress: 62%\rxmin progress: 64%\rxmin progress: 66%\rxmin progress: 68%\rxmin progress: 70%\rxmin progress: 72%\rxmin progress: 74%\rxmin progress: 76%\rxmin progress: 78%\rxmin progress: 80%\rxmin progress: 82%\rxmin progress: 84%\rxmin progress: 86%\rxmin progress: 88%\rxmin progress: 90%\rxmin progress: 92%\rxmin progress: 94%\rxmin progress: 96%\rxmin progress: 98%\r"
          ]
        },
        {
          "output_type": "stream",
          "name": "stderr",
          "text": [
            "<ipython-input-9-ee4a53dcc6bf>:9: DeprecationWarning: `np.float` is a deprecated alias for the builtin `float`. To silence this warning, use `float` by itself. Doing this will not modify any behavior and is safe. If you specifically wanted the numpy scalar type, use `np.float64` here.\n",
            "Deprecated in NumPy 1.20; for more details and guidance: https://numpy.org/devdocs/release/1.20.0-notes.html#deprecations\n",
            "  data = np.array([e for e in item_freq.values()], dtype=np.float)\n"
          ]
        },
        {
          "output_type": "stream",
          "name": "stdout",
          "text": [
            "Calculating best minimal value for power law fit\n",
            "Calculating best minimal value for power law fit\n"
          ]
        },
        {
          "output_type": "stream",
          "name": "stderr",
          "text": [
            "<ipython-input-9-ee4a53dcc6bf>:9: DeprecationWarning: `np.float` is a deprecated alias for the builtin `float`. To silence this warning, use `float` by itself. Doing this will not modify any behavior and is safe. If you specifically wanted the numpy scalar type, use `np.float64` here.\n",
            "Deprecated in NumPy 1.20; for more details and guidance: https://numpy.org/devdocs/release/1.20.0-notes.html#deprecations\n",
            "  data = np.array([e for e in item_freq.values()], dtype=np.float)\n"
          ]
        }
      ]
    },
    {
      "cell_type": "code",
      "source": [
        "print_metrics_table(results)\n"
      ],
      "metadata": {
        "colab": {
          "base_uri": "https://localhost:8080/"
        },
        "id": "Hcj-tsMyi6d-",
        "outputId": "ecbdcde7-855f-4462-fb7d-2de8ac9bf667"
      },
      "execution_count": 20,
      "outputs": [
        {
          "output_type": "stream",
          "name": "stdout",
          "text": [
            "+---------------+----------+---------+-----------------------+-----------+\n",
            "| Model         |     RMSE |     BPR |   Number of Non-Zeros | Stratum   |\n",
            "+===============+==========+=========+=======================+===========+\n",
            "| Random        | 1.3807   | 3.58581 |                  4000 |           |\n",
            "+---------------+----------+---------+-----------------------+-----------+\n",
            "|               | 1.40368  | 3.58011 |                  3942 | Q1        |\n",
            "+---------------+----------+---------+-----------------------+-----------+\n",
            "|               | 1.37554  | 3.63272 |                    58 | Q2        |\n",
            "+---------------+----------+---------+-----------------------+-----------+\n",
            "| KNNBasic      | 1.02611  | 3.65234 |                  4000 |           |\n",
            "+---------------+----------+---------+-----------------------+-----------+\n",
            "|               | 1.02789  | 3.64346 |                  3942 | Q1        |\n",
            "+---------------+----------+---------+-----------------------+-----------+\n",
            "|               | 0.897279 | 4.25559 |                    58 | Q2        |\n",
            "+---------------+----------+---------+-----------------------+-----------+\n",
            "| KNNWithZScore | 0.97665  | 3.64265 |                  4000 |           |\n",
            "+---------------+----------+---------+-----------------------+-----------+\n",
            "|               | 0.977556 | 3.63335 |                  3942 | Q1        |\n",
            "+---------------+----------+---------+-----------------------+-----------+\n",
            "|               | 0.912985 | 4.27477 |                    58 | Q2        |\n",
            "+---------------+----------+---------+-----------------------+-----------+\n",
            "| KNNWithMeans  | 0.980771 | 3.64558 |                  4000 |           |\n",
            "+---------------+----------+---------+-----------------------+-----------+\n",
            "|               | 0.981342 | 3.63609 |                  3942 | Q1        |\n",
            "+---------------+----------+---------+-----------------------+-----------+\n",
            "|               | 0.941159 | 4.2909  |                    58 | Q2        |\n",
            "+---------------+----------+---------+-----------------------+-----------+\n",
            "| KNNBaseline   | 0.950113 | 3.62762 |                  4000 |           |\n",
            "+---------------+----------+---------+-----------------------+-----------+\n",
            "|               | 0.950913 | 3.61779 |                  3942 | Q1        |\n",
            "+---------------+----------+---------+-----------------------+-----------+\n",
            "|               | 0.894116 | 4.29609 |                    58 | Q2        |\n",
            "+---------------+----------+---------+-----------------------+-----------+\n",
            "| SVD           | 0.904424 | 3.60709 |                  4000 |           |\n",
            "+---------------+----------+---------+-----------------------+-----------+\n",
            "|               | 0.904127 | 3.59839 |                  3942 | Q1        |\n",
            "+---------------+----------+---------+-----------------------+-----------+\n",
            "|               | 0.924403 | 4.19848 |                    58 | Q2        |\n",
            "+---------------+----------+---------+-----------------------+-----------+\n",
            "| NMF           | 1.01869  | 3.51754 |                  4000 |           |\n",
            "+---------------+----------+---------+-----------------------+-----------+\n",
            "|               | 1.01944  | 3.50678 |                  3942 | Q1        |\n",
            "+---------------+----------+---------+-----------------------+-----------+\n",
            "|               | 0.965983 | 4.24925 |                    58 | Q2        |\n",
            "+---------------+----------+---------+-----------------------+-----------+\n"
          ]
        }
      ]
    }
  ]
}